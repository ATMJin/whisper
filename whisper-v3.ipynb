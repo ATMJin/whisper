{
 "cells": [
  {
   "cell_type": "code",
   "execution_count": 13,
   "metadata": {},
   "outputs": [],
   "source": [
    "import whisper\n",
    "\n",
    "# 選擇 model: https://github.com/openai/whisper#available-models-and-languages\n",
    "model = whisper.load_model(\"large-v3\").to(\"cuda\")  # large: 2.88G"
   ]
  },
  {
   "cell_type": "code",
   "execution_count": null,
   "metadata": {},
   "outputs": [],
   "source": [
    "import os\n",
    "\n",
    "file_dir = \"F:/Voice//01_WAV版\"\n",
    "file_name = \".wav\"\n",
    "\n",
    "file_path = os.path.join(file_dir, file_name)\n",
    "\n",
    "\n",
    "# 列出資料夾內所有檔案\n",
    "# print(f'資料夾內所有檔案: {os.listdir(file_dir)}')\n",
    "\n",
    "\n",
    "# 讀取檔案並顯示其大小\n",
    "if os.path.exists(file_path):\n",
    "    file_size = os.path.getsize(file_path)\n",
    "    file_size_MB = file_size / 1024 / 1024\n",
    "    print(f\"{file_path} with length {file_size_MB:.2f} MB\")\n",
    "else:\n",
    "    print(f\"File {file_path} does not exist.\")"
   ]
  },
  {
   "cell_type": "code",
   "execution_count": null,
   "metadata": {},
   "outputs": [],
   "source": [
    "# 參數設置\n",
    "options_setting = {\n",
    "    \"language\": \"japanese\",\n",
    "    \"verbose\": True,\n",
    "    \"logprob_threshold\": -1.0,\n",
    "    \"hallucination_silence_threshold\": 5.0,\n",
    "    \"condition_on_previous_text\": False,\n",
    "    \"word_timestamps\": True,\n",
    "}\n",
    "\n",
    "# 開始轉譯文字\n",
    "result = model.transcribe(\n",
    "    file_path, **options_setting\n",
    ")  # 假設 `model` 是 whisper 的轉譯模型"
   ]
  },
  {
   "cell_type": "code",
   "execution_count": null,
   "metadata": {},
   "outputs": [],
   "source": [
    "from whisper.utils import get_writer\n",
    "\n",
    "# 產生輸出的 .srt 檔案名稱，並放置於與原檔案相同的目錄\n",
    "srt_file_name = f\"{os.path.splitext(file_name)[0]}.srt\"\n",
    "output_srt_path = os.path.join(file_dir, srt_file_name)\n",
    "\n",
    "try:\n",
    "    # 初始化 whisper 的 writer，這裡設置為 'srt' 格式\n",
    "    writer = get_writer(\"srt\", file_dir)\n",
    "\n",
    "    print(writer.output_dir)\n",
    "\n",
    "    # 將結果寫入 .srt 檔案\n",
    "    writer(result, output_srt_path)\n",
    "\n",
    "    print(f\"轉譯完成並儲存為: {output_srt_path}\")\n",
    "except Exception as e:\n",
    "    print(e)"
   ]
  },
  {
   "cell_type": "code",
   "execution_count": null,
   "metadata": {},
   "outputs": [],
   "source": [
    "# 將秒轉換為分鐘和秒的格式\n",
    "def format_time(seconds):\n",
    "    hours = int(seconds // 3600)\n",
    "    minutes = int((seconds % 3600) // 60)\n",
    "    seconds = seconds % 60\n",
    "    if hours > 0:\n",
    "        return f\"{hours:02}:{minutes:02}:{seconds:06.3f}\"\n",
    "    else:\n",
    "        return f\"{minutes:02}:{seconds:06.3f}\"\n",
    "\n",
    "segments = result[\"segments\"]\n",
    "\n",
    "# 轉換格式\n",
    "timestamps_and_text = []\n",
    "for item in segments:\n",
    "    start = format_time(item[\"start\"])\n",
    "    end = format_time(item[\"end\"])\n",
    "    text = item[\"text\"]\n",
    "    timestamps_and_text.append(f\"[{start} --> {end}] {text}\")\n",
    "\n",
    "# 輸出結果\n",
    "for line in timestamps_and_text:\n",
    "    print(line)\n",
    "\n",
    "# 產生輸出的 .txt 檔案名稱，並放置於與原檔案相同的目錄\n",
    "txt_file_name = f\"{os.path.splitext(file_name)[0]}.txt\"\n",
    "output_txt_path = os.path.join(file_dir, txt_file_name)\n",
    "# 將結果輸出為 txt 檔案\n",
    "with open(output_txt_path, \"w\", encoding=\"utf-8\") as file:\n",
    "    for line in timestamps_and_text:\n",
    "        file.write(line + \"\\n\")\n",
    "\n",
    "print(f\"檔案已成功輸出為 {txt_file_name}\")"
   ]
  },
  {
   "cell_type": "code",
   "execution_count": null,
   "metadata": {},
   "outputs": [],
   "source": [
    "import torch\n",
    "\n",
    "print(\"PyTorch version:\", torch.__version__)\n",
    "print(\"CUDA available:\", torch.cuda.is_available())\n",
    "print(\"CUDA version:\", torch.version.cuda)\n",
    "print(\"Number of GPUs:\", torch.cuda.device_count())"
   ]
  },
  {
   "cell_type": "code",
   "execution_count": null,
   "metadata": {},
   "outputs": [],
   "source": [
    "import torch\n",
    "import gc\n",
    "\n",
    "# 加載模型並運行在 GPU 上\n",
    "# model = whisper.load_model(\"large-v3\").to(\"cuda\")\n",
    "\n",
    "# 完成使用後，刪除模型變數\n",
    "del model\n",
    "\n",
    "# 釋放 GPU 內存\n",
    "torch.cuda.empty_cache()\n",
    "\n",
    "# 同時進行垃圾回收\n",
    "gc.collect()"
   ]
  },
  {
   "cell_type": "code",
   "execution_count": null,
   "metadata": {},
   "outputs": [],
   "source": [
    "import json\n",
    "\n",
    "# 將字典轉換為 JSON 格式\n",
    "json_str = json.dumps(result[\"segments\"], indent=4)  # indent=4 用於格式化輸出\n",
    "\n",
    "# 打印 JSON 字符串\n",
    "print(json_str)\n",
    "\n",
    "# print(result[\"segments\"])"
   ]
  }
 ],
 "metadata": {
  "kernelspec": {
   "display_name": "ai-test",
   "language": "python",
   "name": "python3"
  },
  "language_info": {
   "codemirror_mode": {
    "name": "ipython",
    "version": 3
   },
   "file_extension": ".py",
   "mimetype": "text/x-python",
   "name": "python",
   "nbconvert_exporter": "python",
   "pygments_lexer": "ipython3",
   "version": "3.12.5"
  }
 },
 "nbformat": 4,
 "nbformat_minor": 2
}
